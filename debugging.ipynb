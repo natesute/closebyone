{
 "cells": [
  {
   "cell_type": "code",
   "execution_count": 6,
   "metadata": {},
   "outputs": [],
   "source": [
    "from search import Utilities as U\n",
    "from testing import Test\n",
    "import numba"
   ]
  },
  {
   "cell_type": "code",
   "execution_count": 7,
   "metadata": {},
   "outputs": [
    {
     "ename": "TypeError",
     "evalue": "__init__() missing 3 required positional arguments: 'intent', 'active_attr', and 'locked_attrs'",
     "output_type": "error",
     "traceback": [
      "\u001b[1;31m---------------------------------------------------------------------------\u001b[0m",
      "\u001b[1;31mTypeError\u001b[0m                                 Traceback (most recent call last)",
      "Cell \u001b[1;32mIn[7], line 5\u001b[0m\n\u001b[0;32m      3\u001b[0m objects_bin \u001b[39m=\u001b[39m U\u001b[39m.\u001b[39mdisc_num_to_bin(objects) \u001b[39m# binarise objects\u001b[39;00m\n\u001b[0;32m      4\u001b[0m test \u001b[39m=\u001b[39m Test(objects, target, \u001b[39m\"\u001b[39m\u001b[39mdfs\u001b[39m\u001b[39m\"\u001b[39m)\n\u001b[1;32m----> 5\u001b[0m \u001b[39mprint\u001b[39m(test\u001b[39m.\u001b[39;49mrun())\n",
      "File \u001b[1;32mc:\\Users\\Dell\\OneDrive\\RESEARCH\\IP\\closebyone\\testing.py:38\u001b[0m, in \u001b[0;36mTest.run\u001b[1;34m(self)\u001b[0m\n\u001b[0;32m     36\u001b[0m     intent \u001b[39m=\u001b[39m root_ext\u001b[39m.\u001b[39mget_closure()\n\u001b[0;32m     37\u001b[0m     root \u001b[39m=\u001b[39m IPNode(context, intent, m\u001b[39m-\u001b[39m\u001b[39m1\u001b[39m, [\u001b[39m0\u001b[39m]\u001b[39m*\u001b[39mm)\n\u001b[1;32m---> 38\u001b[0m     my_search \u001b[39m=\u001b[39m DFS(IPNode(root), [], context, Results())\n\u001b[0;32m     39\u001b[0m my_search\u001b[39m.\u001b[39mres\u001b[39m.\u001b[39mtime \u001b[39m=\u001b[39m timeit\u001b[39m.\u001b[39mtimeit(my_search\u001b[39m.\u001b[39mrun, number\u001b[39m=\u001b[39m\u001b[39m1\u001b[39m)\n\u001b[0;32m     40\u001b[0m \u001b[39mreturn\u001b[39;00m my_search\u001b[39m.\u001b[39mres\n",
      "\u001b[1;31mTypeError\u001b[0m: __init__() missing 3 required positional arguments: 'intent', 'active_attr', and 'locked_attrs'"
     ]
    }
   ],
   "source": [
    "target = U.rand_target_col(3, 0.5, 0)\n",
    "objects = U.rand_disc_num_array(3, 2)\n",
    "objects_bin = U.disc_num_to_bin(objects) # binarise objects\n",
    "test = Test(objects, target, \"dfs\")\n",
    "print(test.run())"
   ]
  }
 ],
 "metadata": {
  "kernelspec": {
   "display_name": "Python 3.8.10 64-bit",
   "language": "python",
   "name": "python3"
  },
  "language_info": {
   "codemirror_mode": {
    "name": "ipython",
    "version": 3
   },
   "file_extension": ".py",
   "mimetype": "text/x-python",
   "name": "python",
   "nbconvert_exporter": "python",
   "pygments_lexer": "ipython3",
   "version": "3.8.10"
  },
  "orig_nbformat": 4,
  "vscode": {
   "interpreter": {
    "hash": "bcc88a5c2b6accdcaf39c87a931cb715cc1ab684beb32819a99a5a377f971b8d"
   }
  }
 },
 "nbformat": 4,
 "nbformat_minor": 2
}
